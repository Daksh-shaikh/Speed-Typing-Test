{
 "cells": [
  {
   "cell_type": "code",
   "execution_count": null,
   "id": "15c4929c",
   "metadata": {},
   "outputs": [],
   "source": [
    "## Speed Typing Test\n",
    "\n",
    "This is a simple Python program that allows you to test your typing speed and accuracy. \n",
    "It presents a predefined text for you to type and measures the time it takes for you to complete it, \n",
    "as well as the number of words typed and your typing speed in words per minute. Additionally, \n",
    "it calculates the accuracy of your typing.\n",
    "\n",
    "To run the speed typing test, simply execute the following code:\n",
    "\n",
    "    \n",
    "Once you execute the code, a text will be displayed for you to type. Press Enter to start the test and begin typing. \n",
    "Once you have finished typing the text, press Enter again. The program will then provide you with the test results, \n",
    "including the time elapsed, number of words typed, typing speed, and accuracy.\n",
    "\n",
    "Feel free to modify the predefined text or enhance the code to suit your needs. Enjoy testing your typing skills!\n",
    "\n"
   ]
  },
  {
   "cell_type": "code",
   "execution_count": 11,
   "id": "508dd2b4",
   "metadata": {},
   "outputs": [
    {
     "name": "stdout",
     "output_type": "stream",
     "text": [
      "Type the following text:\n",
      "The quick brown fox jumps over the lazy dog.\n",
      "Press Enter when you're done.\n",
      "Press Enter to start...\n",
      "The quick brown fox jumps over the lazy dog. \n",
      "\n",
      "--- Test Results ---\n",
      "Time elapsed: 9.39 seconds\n",
      "Words typed: 9\n",
      "Typing speed: 57.50 words per minute\n",
      "Accuracy: 100.00%\n"
     ]
    }
   ],
   "source": [
    "import time\n",
    "\n",
    "def speed_typing_test():\n",
    "    text = \"The quick brown fox jumps over the lazy dog.\"\n",
    "    print(\"Type the following text:\")\n",
    "    print(text)\n",
    "    print(\"Press Enter when you're done.\")\n",
    "    \n",
    "    input(\"Press Enter to start...\")\n",
    "    start_time = time.time()\n",
    "    \n",
    "    typed_text = input()\n",
    "    end_time = time.time()\n",
    "    \n",
    "    elapsed_time = end_time - start_time\n",
    "    words_typed = len(typed_text.split())\n",
    "    typing_speed = words_typed / elapsed_time\n",
    "    accuracy = calculate_accuracy(text, typed_text)\n",
    "    \n",
    "    print(\"\\n--- Test Results ---\")\n",
    "    print(\"Time elapsed: {:.2f} seconds\".format(elapsed_time))\n",
    "    print(\"Words typed: {}\".format(words_typed))\n",
    "    print(\"Typing speed: {:.2f} words per minute\".format(typing_speed * 60))\n",
    "    print(\"Accuracy: {:.2f}%\".format(accuracy * 100))\n",
    "\n",
    "def calculate_accuracy(original_text, typed_text):\n",
    "    correct_chars = 0\n",
    "    total_chars = len(original_text)\n",
    "    \n",
    "    for original_char, typed_char in zip(original_text, typed_text):\n",
    "        if original_char == typed_char:\n",
    "            correct_chars += 1\n",
    "    \n",
    "    accuracy = correct_chars / total_chars\n",
    "    return accuracy\n",
    "\n",
    "# Run the speed typing test\n",
    "speed_typing_test()\n"
   ]
  }
 ],
 "metadata": {
  "kernelspec": {
   "display_name": "Python 3 (ipykernel)",
   "language": "python",
   "name": "python3"
  },
  "language_info": {
   "codemirror_mode": {
    "name": "ipython",
    "version": 3
   },
   "file_extension": ".py",
   "mimetype": "text/x-python",
   "name": "python",
   "nbconvert_exporter": "python",
   "pygments_lexer": "ipython3",
   "version": "3.9.13"
  }
 },
 "nbformat": 4,
 "nbformat_minor": 5
}
